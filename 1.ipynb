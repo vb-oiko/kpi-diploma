{
 "cells": [
  {
   "cell_type": "code",
   "execution_count": null,
   "metadata": {},
   "outputs": [],
   "source": [
    "import numpy as np\n",
    "import pandas as pd\n",
    "from sklearn.model_selection import train_test_split\n",
    "from sklearn.feature_selection import VarianceThreshold\n",
    "import matplotlib.pyplot as plt\n",
    "import seaborn as sns\n",
    "\n",
    "data = pd.read_csv('./num_dataset.csv')\n",
    "data.shape\n",
    "data.head()\n"
   ]
  },
  {
   "cell_type": "code",
   "execution_count": null,
   "metadata": {},
   "outputs": [],
   "source": [
    "corrmat = data.corr(method='pearson')\n",
    "\n",
    "# we can make a heatmap with the package seaborn\n",
    "# # and customise the colours of searborn's heatmap\n",
    "\n",
    "cmap = \"YlGnBu\"\n",
    "# and now plot the correlation matrix\n",
    "\n",
    "sns.heatmap(corrmat, cmap=cmap)\n",
    "plt.show()\n"
   ]
  },
  {
   "cell_type": "code",
   "execution_count": 20,
   "metadata": {},
   "outputs": [],
   "source": [
    "def get_correlated_columns(corr_matrix, threshold):\n",
    "    col_corr = set()  # For storing unique value\n",
    "    for i in range(len(corr_matrix.columns)):\n",
    "        for j in range(i):\n",
    "            # absolute values to handle positive and negative correlations\n",
    "            if abs(corr_matrix.iloc[i, j]) > threshold:\n",
    "                col_name = corr_matrix.columns[i]\n",
    "                col_corr.add(col_name)\n",
    "    return col_corr\n"
   ]
  },
  {
   "cell_type": "code",
   "execution_count": 21,
   "metadata": {},
   "outputs": [],
   "source": [
    "columns_to_drop = correlation(corrmat, 0.8)\n",
    "\n",
    "filtered_data = data.drop(columns_to_drop, axis=1)\n"
   ]
  },
  {
   "cell_type": "code",
   "execution_count": 22,
   "metadata": {},
   "outputs": [],
   "source": [
    "from sklearn.linear_model import LinearRegression, LogisticRegression\n",
    "from sklearn.tree import DecisionTreeClassifier, DecisionTreeRegressor\n",
    "\n",
    "models = [LinearRegression(),\n",
    "          LogisticRegression(max_iter=1000),\n",
    "          DecisionTreeClassifier(random_state=0),\n",
    "          DecisionTreeRegressor()\n",
    "          ]\n",
    "\n",
    "model_names = ['LinearRegression',\n",
    "               'LogisticRegression',\n",
    "               'DecisionTreeClassifier',\n",
    "               'DecisionTreeRegressor'\n",
    "               ]\n"
   ]
  },
  {
   "cell_type": "code",
   "execution_count": 26,
   "metadata": {},
   "outputs": [],
   "source": [
    "def split(df):\n",
    "    X_tr, X_te, Y_tr, Y_te = train_test_split(\n",
    "        df, df['target'], test_size=0.25, random_state=42)\n",
    "    return X_tr, X_te, Y_tr, Y_te\n"
   ]
  },
  {
   "cell_type": "code",
   "execution_count": 29,
   "metadata": {},
   "outputs": [],
   "source": [
    "from sklearn.metrics import accuracy_score, r2_score\n"
   ]
  },
  {
   "cell_type": "code",
   "execution_count": 34,
   "metadata": {},
   "outputs": [
    {
     "name": "stdout",
     "output_type": "stream",
     "text": [
      "Model: DecisionTreeRegressor, acc: 0.9999999932624083, filtered: 0.9999999898757819\n"
     ]
    }
   ],
   "source": [
    "model = models[3]\n",
    "model_name =  model_names[3]\n",
    "\n",
    "X_train, X_test, Y_train, Y_test = split(data)\n",
    "X_filtered_train, X_filtered_test, Y_filtered_train, Y_filtered_test = split(filtered_data)\n",
    "\n",
    "model.fit(X_train, Y_train)\n",
    "predictions = model.predict(X_test)\n",
    "acc = r2_score(Y_test, predictions)\n",
    "\n",
    "model.fit(X_filtered_train, Y_filtered_train)\n",
    "predictions = model.predict(X_filtered_test)\n",
    "acc_filtered = r2_score(Y_filtered_test, predictions)\n",
    "\n",
    "print('Model: {}, acc: {}, filtered: {}'.format(model_name, acc, acc_filtered))"
   ]
  }
 ],
 "metadata": {
  "kernelspec": {
   "display_name": "Python 3.9.5 64-bit",
   "language": "python",
   "name": "python3"
  },
  "language_info": {
   "codemirror_mode": {
    "name": "ipython",
    "version": 3
   },
   "file_extension": ".py",
   "mimetype": "text/x-python",
   "name": "python",
   "nbconvert_exporter": "python",
   "pygments_lexer": "ipython3",
   "version": "3.9.5"
  },
  "orig_nbformat": 4,
  "vscode": {
   "interpreter": {
    "hash": "aee8b7b246df8f9039afb4144a1f6fd8d2ca17a180786b69acc140d282b71a49"
   }
  }
 },
 "nbformat": 4,
 "nbformat_minor": 2
}
