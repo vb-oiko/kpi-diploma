{
 "cells": [
  {
   "cell_type": "code",
   "execution_count": 41,
   "metadata": {},
   "outputs": [],
   "source": [
    "import pandas as pd\n",
    "import numpy as np\n",
    "import random\n",
    "import math\n",
    "import matplotlib.pyplot as plt\n",
    "import seaborn as sns\n",
    "from sklearn.model_selection import train_test_split\n",
    "from sklearn.linear_model import LinearRegression\n",
    "from sklearn.metrics import accuracy_score, r2_score\n",
    "\n",
    "random.seed(42)\n",
    "np.random.seed(42)"
   ]
  },
  {
   "cell_type": "code",
   "execution_count": 42,
   "metadata": {},
   "outputs": [],
   "source": [
    "# функція для генерування цільової змінної\n",
    "def generate_num_target_dataset(a=5, b=20, dataset_length=10000):\n",
    "    return pd.DataFrame(np.random.uniform(a, b, size=dataset_length), columns=['target'])\n"
   ]
  },
  {
   "cell_type": "code",
   "execution_count": 43,
   "metadata": {},
   "outputs": [],
   "source": [
    "# функція генерує нову змінну, лінійно залежну від вказаної змінної\n",
    "def linear_dep(row, scale, noise, offset, source='target'):\n",
    "    return row[source] * scale * (1 + math.copysign(noise, random.random() - 0.5)) + offset\n",
    "\n",
    "# функція повертає лямбду для генерації нової змінної, лінійно залежну від вказаної змінної\n",
    "def build_linear_dep(noise, scale=None,  offset=None, source='target'):\n",
    "    _scale = random.uniform(0.1, 10) if scale == None else scale\n",
    "    _offset = random.uniform(0, 10 * _scale) if offset == None else offset\n",
    "    label = f\"lin_dep_noise_{noise:.3f}_scale_{_scale:.3f}_offset_{_offset:.3f}\"\n",
    "    print(label)\n",
    "    return lambda row: linear_dep(row, _scale, noise, _offset, source=source)\n"
   ]
  },
  {
   "cell_type": "code",
   "execution_count": 44,
   "metadata": {},
   "outputs": [],
   "source": [
    "# функція генерує датасет з числовою цільовою змінною\n",
    "def generate_numerical_dataset(dataset_length=10_000):\n",
    "\n",
    "    df = generate_num_target_dataset()\n",
    "\n",
    "    lambdas = [\n",
    "        build_linear_dep(noise=0.30),\n",
    "        build_linear_dep(noise=0.40),\n",
    "        build_linear_dep(noise=0.50),\n",
    "        build_linear_dep(noise=0.20, source='x1'),\n",
    "        build_linear_dep(noise=0.20, source='x2'),\n",
    "        build_linear_dep(noise=0.20, source='x3'),\n",
    "        ]\n",
    "\n",
    "    for i in range(len(lambdas)):\n",
    "        df['x{}'.format(i+1)] = df.apply(lambdas[i], axis=1)\n",
    "\n",
    "    df['x7'] = df['x1'].sample(frac=1).reset_index(drop=True)\n",
    "    df['x8'] = df['x2'].sample(frac=1).reset_index(drop=True)\n",
    "    df['x9'] = df['x3'].sample(frac=1).reset_index(drop=True)\n",
    "\n",
    "    return df\n"
   ]
  },
  {
   "cell_type": "code",
   "execution_count": 66,
   "metadata": {},
   "outputs": [],
   "source": [
    "# ще один варіант функції, що генерує датасет з числовою цільовою змінною\n",
    "def generate_numerical_dataset1(a=5, b=20, dataset_length=10000):\n",
    "    df = pd.DataFrame({\n",
    "        'x1': np.random.normal(50, 9, size=dataset_length),\n",
    "        'x2': np.random.normal(200, 64, size=dataset_length),\n",
    "        'error': np.random.normal(0, 16, size=dataset_length),\n",
    "    }\n",
    "    )\n",
    "\n",
    "    df['target'] = df.apply(\n",
    "        lambda row: 150-(4*row['x1']) + (0.5*row['x2'])+row['error'], axis=1)\n",
    "    df = df.drop('error', axis=1)\n",
    "\n",
    "    lambdas = [\n",
    "        build_linear_dep(0.20, source='x1'),\n",
    "        build_linear_dep(0.20, source='x2'),\n",
    "    ]\n",
    "\n",
    "    for i in range(len(lambdas)):\n",
    "        df['x{}'.format(i+3)] = df.apply(lambdas[i], axis=1)\n",
    "\n",
    "    df.insert(0, 'target', df.pop('target'))\n",
    "\n",
    "    return df\n"
   ]
  },
  {
   "cell_type": "code",
   "execution_count": 67,
   "metadata": {},
   "outputs": [
    {
     "name": "stdout",
     "output_type": "stream",
     "text": [
      "lin_dep_noise_0.200_scale_8.524_offset_0.758\n",
      "lin_dep_noise_0.200_scale_6.060_offset_34.680\n"
     ]
    },
    {
     "data": {
      "text/html": [
       "<div>\n",
       "<style scoped>\n",
       "    .dataframe tbody tr th:only-of-type {\n",
       "        vertical-align: middle;\n",
       "    }\n",
       "\n",
       "    .dataframe tbody tr th {\n",
       "        vertical-align: top;\n",
       "    }\n",
       "\n",
       "    .dataframe thead th {\n",
       "        text-align: right;\n",
       "    }\n",
       "</style>\n",
       "<table border=\"1\" class=\"dataframe\">\n",
       "  <thead>\n",
       "    <tr style=\"text-align: right;\">\n",
       "      <th></th>\n",
       "      <th>target</th>\n",
       "      <th>x1</th>\n",
       "      <th>x2</th>\n",
       "      <th>x3</th>\n",
       "      <th>x4</th>\n",
       "    </tr>\n",
       "  </thead>\n",
       "  <tbody>\n",
       "    <tr>\n",
       "      <th>0</th>\n",
       "      <td>84.362698</td>\n",
       "      <td>44.539839</td>\n",
       "      <td>263.305955</td>\n",
       "      <td>456.359281</td>\n",
       "      <td>1949.403435</td>\n",
       "    </tr>\n",
       "    <tr>\n",
       "      <th>1</th>\n",
       "      <td>74.127026</td>\n",
       "      <td>45.860020</td>\n",
       "      <td>216.862811</td>\n",
       "      <td>469.863495</td>\n",
       "      <td>1086.010404</td>\n",
       "    </tr>\n",
       "    <tr>\n",
       "      <th>2</th>\n",
       "      <td>51.328398</td>\n",
       "      <td>44.756476</td>\n",
       "      <td>199.373564</td>\n",
       "      <td>458.575275</td>\n",
       "      <td>1484.496224</td>\n",
       "    </tr>\n",
       "    <tr>\n",
       "      <th>3</th>\n",
       "      <td>18.681206</td>\n",
       "      <td>46.340794</td>\n",
       "      <td>119.129542</td>\n",
       "      <td>316.773706</td>\n",
       "      <td>612.208823</td>\n",
       "    </tr>\n",
       "    <tr>\n",
       "      <th>4</th>\n",
       "      <td>19.999537</td>\n",
       "      <td>56.540127</td>\n",
       "      <td>243.938718</td>\n",
       "      <td>386.326797</td>\n",
       "      <td>1808.567650</td>\n",
       "    </tr>\n",
       "    <tr>\n",
       "      <th>...</th>\n",
       "      <td>...</td>\n",
       "      <td>...</td>\n",
       "      <td>...</td>\n",
       "      <td>...</td>\n",
       "      <td>...</td>\n",
       "    </tr>\n",
       "    <tr>\n",
       "      <th>9995</th>\n",
       "      <td>22.843833</td>\n",
       "      <td>53.648176</td>\n",
       "      <td>122.961734</td>\n",
       "      <td>549.529045</td>\n",
       "      <td>928.840315</td>\n",
       "    </tr>\n",
       "    <tr>\n",
       "      <th>9996</th>\n",
       "      <td>122.676980</td>\n",
       "      <td>36.566746</td>\n",
       "      <td>214.930349</td>\n",
       "      <td>250.120798</td>\n",
       "      <td>1076.642011</td>\n",
       "    </tr>\n",
       "    <tr>\n",
       "      <th>9997</th>\n",
       "      <td>-25.122940</td>\n",
       "      <td>49.923657</td>\n",
       "      <td>68.708654</td>\n",
       "      <td>511.430698</td>\n",
       "      <td>534.319664</td>\n",
       "    </tr>\n",
       "    <tr>\n",
       "      <th>9998</th>\n",
       "      <td>37.292600</td>\n",
       "      <td>57.326331</td>\n",
       "      <td>194.862335</td>\n",
       "      <td>587.153125</td>\n",
       "      <td>1451.691207</td>\n",
       "    </tr>\n",
       "    <tr>\n",
       "      <th>9999</th>\n",
       "      <td>86.233345</td>\n",
       "      <td>35.821812</td>\n",
       "      <td>183.561325</td>\n",
       "      <td>367.182021</td>\n",
       "      <td>1369.511876</td>\n",
       "    </tr>\n",
       "  </tbody>\n",
       "</table>\n",
       "<p>10000 rows × 5 columns</p>\n",
       "</div>"
      ],
      "text/plain": [
       "          target         x1          x2          x3           x4\n",
       "0      84.362698  44.539839  263.305955  456.359281  1949.403435\n",
       "1      74.127026  45.860020  216.862811  469.863495  1086.010404\n",
       "2      51.328398  44.756476  199.373564  458.575275  1484.496224\n",
       "3      18.681206  46.340794  119.129542  316.773706   612.208823\n",
       "4      19.999537  56.540127  243.938718  386.326797  1808.567650\n",
       "...          ...        ...         ...         ...          ...\n",
       "9995   22.843833  53.648176  122.961734  549.529045   928.840315\n",
       "9996  122.676980  36.566746  214.930349  250.120798  1076.642011\n",
       "9997  -25.122940  49.923657   68.708654  511.430698   534.319664\n",
       "9998   37.292600  57.326331  194.862335  587.153125  1451.691207\n",
       "9999   86.233345  35.821812  183.561325  367.182021  1369.511876\n",
       "\n",
       "[10000 rows x 5 columns]"
      ]
     },
     "execution_count": 67,
     "metadata": {},
     "output_type": "execute_result"
    }
   ],
   "source": [
    "num_df = generate_numerical_dataset1(10000)\n",
    "num_df\n"
   ]
  },
  {
   "cell_type": "code",
   "execution_count": 68,
   "metadata": {},
   "outputs": [
    {
     "name": "stdout",
     "output_type": "stream",
     "text": [
      "          target        x1        x2        x3        x4\n",
      "target  1.000000 -0.709581  0.617740 -0.468239  0.521048\n",
      "x1     -0.709581  1.000000  0.012514  0.665291  0.008068\n",
      "x2      0.617740  0.012514  1.000000  0.013536  0.834380\n",
      "x3     -0.468239  0.665291  0.013536  1.000000  0.008384\n",
      "x4      0.521048  0.008068  0.834380  0.008384  1.000000\n"
     ]
    },
    {
     "data": {
      "image/png": "[encoded data removed]",
      "text/plain": [
       "<Figure size 432x288 with 2 Axes>"
      ]
     },
     "metadata": {
      "needs_background": "light"
     },
     "output_type": "display_data"
    }
   ],
   "source": [
    "corrmat = num_df.corr(method='pearson')\n",
    "\n",
    "cmap = \"YlGnBu\"\n",
    "\n",
    "print(corrmat)\n",
    "\n",
    "sns.heatmap(corrmat, cmap=cmap)\n",
    "plt.show()\n"
   ]
  },
  {
   "cell_type": "code",
   "execution_count": 69,
   "metadata": {},
   "outputs": [],
   "source": [
    "def split(df):\n",
    "    X_tr, X_te, Y_tr, Y_te = train_test_split(\n",
    "        df.drop('target', axis=1), df['target'], test_size=0.25, random_state=42)\n",
    "    return X_tr, X_te, Y_tr, Y_te\n"
   ]
  },
  {
   "cell_type": "code",
   "execution_count": 70,
   "metadata": {},
   "outputs": [],
   "source": [
    "# функція повертає назви колонок, для яких коефіцієнт кореляції більше ніж порогове значення\n",
    "def get_correlated_columns(corr_matrix, threshold):\n",
    "    correlated_columns = set()  # For storing unique value\n",
    "    for i in range(len(corr_matrix.columns)):\n",
    "        for j in range(i):\n",
    "            if abs(corr_matrix.iloc[i, j]) > threshold:\n",
    "            # absolute values to handle positive and negative correlations\n",
    "                print(i, j, corr_matrix.iloc[i, j])\n",
    "                col_name = corr_matrix.columns[i]\n",
    "                correlated_columns.add(col_name)\n",
    "    return correlated_columns\n"
   ]
  },
  {
   "cell_type": "code",
   "execution_count": 71,
   "metadata": {},
   "outputs": [
    {
     "name": "stdout",
     "output_type": "stream",
     "text": [
      "4 2 0.8343796916109828\n",
      "dropped columns: {'x4'}\n",
      "Model: Linear regression, acc: 0.89844, filtered: 0.89837\n"
     ]
    }
   ],
   "source": [
    "model = LinearRegression()\n",
    "\n",
    "X_train, X_test, Y_train, Y_test = split(num_df)\n",
    "model.fit(X_train, Y_train)\n",
    "predictions = model.predict(X_test)\n",
    "acc = r2_score(Y_test, predictions)\n",
    "\n",
    "columns_to_drop = get_correlated_columns(corrmat, 0.75)\n",
    "filtered_num_df = num_df.drop(columns_to_drop, axis=1)\n",
    "print('dropped columns:', columns_to_drop)\n",
    "X_train, X_test, Y_train, Y_test = split(filtered_num_df)\n",
    "model.fit(X_train, Y_train)\n",
    "predictions = model.predict(X_test)\n",
    "acc_filtered = r2_score(Y_test, predictions)\n",
    "\n",
    "print(f'Model: Linear regression, acc: {acc:.5f}, filtered: {acc_filtered:.5f}')"
   ]
  }
 ],
 "metadata": {
  "kernelspec": {
   "display_name": "Python 3.9.5 64-bit",
   "language": "python",
   "name": "python3"
  },
  "language_info": {
   "codemirror_mode": {
    "name": "ipython",
    "version": 3
   },
   "file_extension": ".py",
   "mimetype": "text/x-python",
   "name": "python",
   "nbconvert_exporter": "python",
   "pygments_lexer": "ipython3",
   "version": "3.9.5"
  },
  "orig_nbformat": 4,
  "vscode": {
   "interpreter": {
    "hash": "aee8b7b246df8f9039afb4144a1f6fd8d2ca17a180786b69acc140d282b71a49"
   }
  }
 },
 "nbformat": 4,
 "nbformat_minor": 2
}
