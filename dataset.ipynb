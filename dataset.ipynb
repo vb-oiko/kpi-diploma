{
 "cells": [
  {
   "cell_type": "code",
   "execution_count": 138,
   "metadata": {},
   "outputs": [],
   "source": [
    "import pandas as pd\n",
    "import numpy as np\n",
    "import random\n",
    "import math\n"
   ]
  },
  {
   "cell_type": "code",
   "execution_count": 139,
   "metadata": {},
   "outputs": [],
   "source": [
    "def generate_num_target_dataset(a=5, b=20, dataset_length=10000):\n",
    "    return pd.DataFrame(np.random.uniform(a, b, size=dataset_length), columns=['target'])\n"
   ]
  },
  {
   "cell_type": "code",
   "execution_count": 140,
   "metadata": {},
   "outputs": [],
   "source": [
    "def linear_dep(row, scale=1, noise=0.2, offset=0,):\n",
    "    return row['target'] * scale * (1 + math.copysign(noise, random.random() - 0.5)) + offset\n",
    "    # return row['target'] * scale * (1 + (noise * random.random() - 0.5)) + offset\n",
    "\n",
    "\n",
    "def build_linear_dep(noise=None, scale=None,  offset=None):\n",
    "    _noise = random.uniform(0.1, 0.3) if noise == None else noise\n",
    "    _scale = random.uniform(0.1, 10) if scale == None else scale\n",
    "    _offset = random.uniform(0, 10 * _scale) if offset == None else offset\n",
    "    label = f\"lin_dep_noise_{_noise:.3f}_scale_{_scale:.3f}_offset_{_offset:.3f}\"\n",
    "    print(label)\n",
    "    return lambda row: linear_dep(row, _scale, _noise, _offset)\n"
   ]
  },
  {
   "cell_type": "code",
   "execution_count": 141,
   "metadata": {},
   "outputs": [
    {
     "data": {
      "text/plain": [
       "'lin_dep_scale_10.365_noise_4.456_offset_12.346'"
      ]
     },
     "execution_count": 141,
     "metadata": {},
     "output_type": "execute_result"
    }
   ],
   "source": [
    "_scale = 10.364574574\n",
    "_noise = 4.4564564\n",
    "_offset = 12.34567\n",
    "f\"lin_dep_scale_{_scale:.3f}_noise_{_noise:.3f}_offset_{_offset:.3f}\""
   ]
  },
  {
   "cell_type": "code",
   "execution_count": 142,
   "metadata": {},
   "outputs": [],
   "source": [
    "def non_linear_dep(row, scale=1, noise=0, offset=0, shift=0):\n",
    "    return scale * math.cos(row['target'] * math.pi / 2 * (1 + shift + noise * (random.random() - 0.5))) + offset\n",
    "\n",
    "\n",
    "def build_non_linear_dep(scale=None, noise=None,  offset=None, shift=None):\n",
    "    _scale = random.uniform(1, 100) if scale == None else scale\n",
    "    _noise = random.uniform(0.05, 0.1) if noise == None else noise\n",
    "    _offset = random.uniform(0, 20) if offset == None else offset\n",
    "    _shift = random.uniform(0, 1) if shift == None else shift\n",
    "    return lambda row: non_linear_dep(row, _scale, _noise, _offset, _shift)\n"
   ]
  },
  {
   "cell_type": "code",
   "execution_count": 143,
   "metadata": {},
   "outputs": [],
   "source": [
    "def build_category_dep(category_count=10, split_index=5):\n",
    "    list = random.sample(range(1, category_count + 1), category_count)\n",
    "    listA = list[:split_index]\n",
    "    listB = list[split_index:]\n",
    "\n",
    "    # print('target > 0.5:', listA)\n",
    "    # print('target < 0.5:', listB)\n",
    "\n",
    "    def category_lambda(row, noise=0):\n",
    "        if row['target'] > 0.5:\n",
    "            if random.random() > noise:\n",
    "                return random.choice(listA)\n",
    "            else:\n",
    "                return random.choice(listB)\n",
    "        else:\n",
    "            if random.random() > noise:\n",
    "                return random.choice(listB)\n",
    "            else:\n",
    "                return random.choice(listA)\n",
    "\n",
    "    return category_lambda\n",
    "\n",
    "\n",
    "category_dep = build_category_dep()\n"
   ]
  },
  {
   "cell_type": "code",
   "execution_count": 144,
   "metadata": {},
   "outputs": [],
   "source": [
    "def linear_noise(scale=1, offset=0):\n",
    "    return offset + scale * random.random()\n",
    "\n",
    "\n",
    "def build_linear_noise(scale=None, offset=None):\n",
    "    _scale = random.uniform(1, 100) if scale == None else scale\n",
    "    _offset = random.uniform(0, 20) if offset == None else offset\n",
    "    return lambda _: linear_noise(_scale, _offset)\n"
   ]
  },
  {
   "cell_type": "code",
   "execution_count": 145,
   "metadata": {},
   "outputs": [],
   "source": [
    "def category_noise(category_count=10):\n",
    "    return random.randint(0, category_count) + 1\n",
    "\n",
    "\n",
    "def build_category_noise(category_count=None):\n",
    "    _category_count = random.randint(\n",
    "        2, 10) if category_count == None else category_count\n",
    "    return lambda _: category_noise(_category_count)\n"
   ]
  },
  {
   "cell_type": "code",
   "execution_count": 146,
   "metadata": {},
   "outputs": [],
   "source": [
    "def build_category_to_numerical_dep(categories, noise=None):\n",
    "\n",
    "    list = random.sample(categories, len(categories)//2)\n",
    "    _noise = random.uniform(0.05, 0.1) if noise == None else noise\n",
    "\n",
    "    def category_lambda(row):\n",
    "        if row['target'] in list:\n",
    "            return random.uniform(0, 0.5) + (random.random() - 0.5) * _noise\n",
    "        else:\n",
    "            return random.uniform(0.5, 1) + (random.random() - 0.5) * _noise\n",
    "\n",
    "    return category_lambda\n"
   ]
  },
  {
   "cell_type": "code",
   "execution_count": 147,
   "metadata": {},
   "outputs": [],
   "source": [
    "def generate_categorical_dataset(dataset_length=10_000, categories_number=10):\n",
    "\n",
    "    categories = range(1, categories_number+1)\n",
    "\n",
    "    df = pd.DataFrame(np.random.choice(categories,\n",
    "                      size=dataset_length), columns=['target'])\n",
    "\n",
    "    lambda_builders = [lambda:build_category_to_numerical_dep(categories),\n",
    "                       build_linear_noise,\n",
    "                       build_category_noise]\n",
    "\n",
    "    lambdas = sum([[builder() for i in range(10)]\n",
    "                   for builder in lambda_builders], [])\n",
    "\n",
    "    for i in range(len(lambdas)):\n",
    "        df['x{}'.format(i+1)] = df.apply(lambdas[i], axis=1)\n",
    "\n",
    "    return df\n"
   ]
  },
  {
   "cell_type": "code",
   "execution_count": 148,
   "metadata": {},
   "outputs": [],
   "source": [
    "# cat_df = generate_categorical_dataset()\n",
    "# cat_df\n"
   ]
  },
  {
   "cell_type": "code",
   "execution_count": 149,
   "metadata": {},
   "outputs": [],
   "source": [
    "def generate_numerical_dataset(dataset_length=10_000):\n",
    "\n",
    "    df = generate_num_target_dataset()\n",
    "\n",
    "    lambda_builders = [build_linear_dep,\n",
    "                       build_non_linear_dep,\n",
    "                       build_category_dep,\n",
    "                       build_linear_noise,\n",
    "                       build_category_noise]\n",
    "    labels = ['_lin_num', '_non_lin_num', '_cat', '_noise_num', '_noise_cat']\n",
    "\n",
    "    # lambdas = sum([[builder() for i in range(1)]\n",
    "    #                for builder in lambda_builders], [])\n",
    "\n",
    "    lambdas = [\n",
    "        build_linear_dep(0.40),\n",
    "        build_linear_dep(0.42),\n",
    "        build_linear_dep(0.44),\n",
    "        build_linear_dep(0.46),\n",
    "        build_linear_dep(0.48),\n",
    "        build_linear_dep(0.50),\n",
    "        ]\n",
    "\n",
    "    for i in range(len(lambdas)):\n",
    "        df['x{}'.format(i+1)] = df.apply(lambdas[i], axis=1)\n",
    "\n",
    "    return df\n"
   ]
  },
  {
   "cell_type": "code",
   "execution_count": 150,
   "metadata": {},
   "outputs": [
    {
     "name": "stdout",
     "output_type": "stream",
     "text": [
      "lin_dep_scale_noise_0.400_4.510_offset_17.113\n",
      "lin_dep_scale_noise_0.420_4.007_offset_4.198\n",
      "lin_dep_scale_noise_0.440_4.952_offset_35.138\n",
      "lin_dep_scale_noise_0.460_5.780_offset_1.549\n",
      "lin_dep_scale_noise_0.480_8.786_offset_24.304\n",
      "lin_dep_scale_noise_0.500_7.744_offset_34.705\n"
     ]
    },
    {
     "data": {
      "text/html": [
       "<div>\n",
       "<style scoped>\n",
       "    .dataframe tbody tr th:only-of-type {\n",
       "        vertical-align: middle;\n",
       "    }\n",
       "\n",
       "    .dataframe tbody tr th {\n",
       "        vertical-align: top;\n",
       "    }\n",
       "\n",
       "    .dataframe thead th {\n",
       "        text-align: right;\n",
       "    }\n",
       "</style>\n",
       "<table border=\"1\" class=\"dataframe\">\n",
       "  <thead>\n",
       "    <tr style=\"text-align: right;\">\n",
       "      <th></th>\n",
       "      <th>target</th>\n",
       "      <th>x1</th>\n",
       "      <th>x2</th>\n",
       "      <th>x3</th>\n",
       "      <th>x4</th>\n",
       "      <th>x5</th>\n",
       "      <th>x6</th>\n",
       "    </tr>\n",
       "  </thead>\n",
       "  <tbody>\n",
       "    <tr>\n",
       "      <th>0</th>\n",
       "      <td>10.111663</td>\n",
       "      <td>44.477852</td>\n",
       "      <td>61.733606</td>\n",
       "      <td>107.239317</td>\n",
       "      <td>86.879151</td>\n",
       "      <td>70.498846</td>\n",
       "      <td>73.859408</td>\n",
       "    </tr>\n",
       "    <tr>\n",
       "      <th>1</th>\n",
       "      <td>8.830177</td>\n",
       "      <td>41.009783</td>\n",
       "      <td>24.720198</td>\n",
       "      <td>59.623978</td>\n",
       "      <td>76.064916</td>\n",
       "      <td>139.119426</td>\n",
       "      <td>68.897177</td>\n",
       "    </tr>\n",
       "    <tr>\n",
       "      <th>2</th>\n",
       "      <td>6.231013</td>\n",
       "      <td>56.459577</td>\n",
       "      <td>39.652634</td>\n",
       "      <td>79.568365</td>\n",
       "      <td>54.131037</td>\n",
       "      <td>52.770101</td>\n",
       "      <td>58.832573</td>\n",
       "    </tr>\n",
       "    <tr>\n",
       "      <th>3</th>\n",
       "      <td>7.634564</td>\n",
       "      <td>37.774111</td>\n",
       "      <td>21.941483</td>\n",
       "      <td>56.308579</td>\n",
       "      <td>25.377690</td>\n",
       "      <td>59.182221</td>\n",
       "      <td>64.267468</td>\n",
       "    </tr>\n",
       "    <tr>\n",
       "      <th>4</th>\n",
       "      <td>19.444423</td>\n",
       "      <td>69.734973</td>\n",
       "      <td>49.388684</td>\n",
       "      <td>173.786503</td>\n",
       "      <td>165.636647</td>\n",
       "      <td>113.135547</td>\n",
       "      <td>260.585372</td>\n",
       "    </tr>\n",
       "    <tr>\n",
       "      <th>...</th>\n",
       "      <td>...</td>\n",
       "      <td>...</td>\n",
       "      <td>...</td>\n",
       "      <td>...</td>\n",
       "      <td>...</td>\n",
       "      <td>...</td>\n",
       "      <td>...</td>\n",
       "    </tr>\n",
       "    <tr>\n",
       "      <th>9995</th>\n",
       "      <td>18.641647</td>\n",
       "      <td>67.562431</td>\n",
       "      <td>47.522958</td>\n",
       "      <td>168.062312</td>\n",
       "      <td>158.862161</td>\n",
       "      <td>266.694535</td>\n",
       "      <td>106.889610</td>\n",
       "    </tr>\n",
       "    <tr>\n",
       "      <th>9996</th>\n",
       "      <td>5.849471</td>\n",
       "      <td>32.943138</td>\n",
       "      <td>17.792762</td>\n",
       "      <td>51.358570</td>\n",
       "      <td>50.911269</td>\n",
       "      <td>100.362348</td>\n",
       "      <td>102.656337</td>\n",
       "    </tr>\n",
       "    <tr>\n",
       "      <th>9997</th>\n",
       "      <td>14.103103</td>\n",
       "      <td>106.169215</td>\n",
       "      <td>36.974965</td>\n",
       "      <td>74.245644</td>\n",
       "      <td>45.567347</td>\n",
       "      <td>88.733735</td>\n",
       "      <td>198.536646</td>\n",
       "    </tr>\n",
       "    <tr>\n",
       "      <th>9998</th>\n",
       "      <td>6.997182</td>\n",
       "      <td>61.297680</td>\n",
       "      <td>20.460149</td>\n",
       "      <td>85.031529</td>\n",
       "      <td>23.388289</td>\n",
       "      <td>56.270344</td>\n",
       "      <td>115.989004</td>\n",
       "    </tr>\n",
       "    <tr>\n",
       "      <th>9999</th>\n",
       "      <td>8.546773</td>\n",
       "      <td>40.242810</td>\n",
       "      <td>52.829349</td>\n",
       "      <td>96.080874</td>\n",
       "      <td>73.673319</td>\n",
       "      <td>135.434420</td>\n",
       "      <td>67.799765</td>\n",
       "    </tr>\n",
       "  </tbody>\n",
       "</table>\n",
       "<p>10000 rows × 7 columns</p>\n",
       "</div>"
      ],
      "text/plain": [
       "         target          x1         x2          x3          x4          x5  \\\n",
       "0     10.111663   44.477852  61.733606  107.239317   86.879151   70.498846   \n",
       "1      8.830177   41.009783  24.720198   59.623978   76.064916  139.119426   \n",
       "2      6.231013   56.459577  39.652634   79.568365   54.131037   52.770101   \n",
       "3      7.634564   37.774111  21.941483   56.308579   25.377690   59.182221   \n",
       "4     19.444423   69.734973  49.388684  173.786503  165.636647  113.135547   \n",
       "...         ...         ...        ...         ...         ...         ...   \n",
       "9995  18.641647   67.562431  47.522958  168.062312  158.862161  266.694535   \n",
       "9996   5.849471   32.943138  17.792762   51.358570   50.911269  100.362348   \n",
       "9997  14.103103  106.169215  36.974965   74.245644   45.567347   88.733735   \n",
       "9998   6.997182   61.297680  20.460149   85.031529   23.388289   56.270344   \n",
       "9999   8.546773   40.242810  52.829349   96.080874   73.673319  135.434420   \n",
       "\n",
       "              x6  \n",
       "0      73.859408  \n",
       "1      68.897177  \n",
       "2      58.832573  \n",
       "3      64.267468  \n",
       "4     260.585372  \n",
       "...          ...  \n",
       "9995  106.889610  \n",
       "9996  102.656337  \n",
       "9997  198.536646  \n",
       "9998  115.989004  \n",
       "9999   67.799765  \n",
       "\n",
       "[10000 rows x 7 columns]"
      ]
     },
     "execution_count": 150,
     "metadata": {},
     "output_type": "execute_result"
    }
   ],
   "source": [
    "num_df = generate_numerical_dataset(10000)\n",
    "# num_df.to_csv('./num_dataset.csv')\n",
    "num_df\n"
   ]
  },
  {
   "cell_type": "code",
   "execution_count": 151,
   "metadata": {},
   "outputs": [],
   "source": [
    "import matplotlib.pyplot as plt\n",
    "import seaborn as sns\n",
    "\n"
   ]
  },
  {
   "cell_type": "code",
   "execution_count": 152,
   "metadata": {},
   "outputs": [
    {
     "name": "stdout",
     "output_type": "stream",
     "text": [
      "          target        x1        x2        x3        x4        x5        x6\n",
      "target  1.000000  0.631319  0.612358  0.599182  0.575105  0.567546  0.547156\n",
      "x1      0.631319  1.000000  0.401550  0.375078  0.371416  0.360823  0.347371\n",
      "x2      0.612358  0.401550  1.000000  0.379423  0.345453  0.343474  0.346901\n",
      "x3      0.599182  0.375078  0.379423  1.000000  0.345961  0.345310  0.325365\n",
      "x4      0.575105  0.371416  0.345453  0.345961  1.000000  0.336575  0.319277\n",
      "x5      0.567546  0.360823  0.343474  0.345310  0.336575  1.000000  0.311854\n",
      "x6      0.547156  0.347371  0.346901  0.325365  0.319277  0.311854  1.000000\n"
     ]
    },
    {
     "data": {
      "image/png": "[encoded data removed]",
      "text/plain": [
       "<Figure size 432x288 with 2 Axes>"
      ]
     },
     "metadata": {
      "needs_background": "light"
     },
     "output_type": "display_data"
    }
   ],
   "source": [
    "corrmat = num_df.corr(method='pearson')\n",
    "\n",
    "# we can make a heatmap with the package seaborn\n",
    "# # and customise the colours of searborn's heatmap\n",
    "\n",
    "cmap = \"YlGnBu\"\n",
    "# and now plot the correlation matrix\n",
    "\n",
    "print(corrmat)\n",
    "\n",
    "sns.heatmap(corrmat, cmap=cmap)\n",
    "plt.show()\n"
   ]
  }
 ],
 "metadata": {
  "kernelspec": {
   "display_name": "Python 3.9.5 64-bit",
   "language": "python",
   "name": "python3"
  },
  "language_info": {
   "codemirror_mode": {
    "name": "ipython",
    "version": 3
   },
   "file_extension": ".py",
   "mimetype": "text/x-python",
   "name": "python",
   "nbconvert_exporter": "python",
   "pygments_lexer": "ipython3",
   "version": "3.9.5"
  },
  "orig_nbformat": 4,
  "vscode": {
   "interpreter": {
    "hash": "aee8b7b246df8f9039afb4144a1f6fd8d2ca17a180786b69acc140d282b71a49"
   }
  }
 },
 "nbformat": 4,
 "nbformat_minor": 2
}
