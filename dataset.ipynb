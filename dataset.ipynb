{
 "cells": [
  {
   "cell_type": "code",
   "execution_count": 51,
   "metadata": {},
   "outputs": [],
   "source": [
    "import pandas as pd\n",
    "import numpy as np\n",
    "import random\n",
    "import math"
   ]
  },
  {
   "cell_type": "code",
   "execution_count": 92,
   "metadata": {},
   "outputs": [],
   "source": [
    "dataset_length = 10\n",
    "\n",
    "df = pd.DataFrame(np.random.random(size=dataset_length), columns=['target'])"
   ]
  },
  {
   "cell_type": "code",
   "execution_count": 89,
   "metadata": {},
   "outputs": [],
   "source": [
    "def linear_dep(row, scale=1, offset=0, noise=0):\n",
    "    return row['target'] * scale + offset + noise * scale * (random.random() - 0.5)\n"
   ]
  },
  {
   "cell_type": "code",
   "execution_count": 54,
   "metadata": {},
   "outputs": [],
   "source": [
    "def non_linear_dep(row, scale=1, noise=0, offset=0, shift=0  ):\n",
    "    return scale * math.cos(row['target'] * math.pi / 2 * (1 + shift + noise * (random.random() - 0.5))) + offset"
   ]
  },
  {
   "cell_type": "code",
   "execution_count": 74,
   "metadata": {},
   "outputs": [
    {
     "name": "stdout",
     "output_type": "stream",
     "text": [
      "target > 0.5: [2, 3, 9, 10, 4]\n",
      "target < 0.5: [6, 1, 7, 8, 5]\n"
     ]
    }
   ],
   "source": [
    "def build_category_dep(category_count=10, split_index=5):\n",
    "    list = random.sample(range(1, category_count + 1), category_count)\n",
    "    listA = list[:split_index]\n",
    "    listB = list[split_index:]\n",
    "\n",
    "    print('target > 0.5:', listA)\n",
    "    print('target < 0.5:', listB)\n",
    "\n",
    "    def category_dep1(row, noise=0):\n",
    "        if row['target'] > 0.5:\n",
    "            if random.random() > noise:\n",
    "                return random.choice(listA)\n",
    "            else:\n",
    "                return random.choice(listB)\n",
    "        else:\n",
    "            if random.random() > noise:\n",
    "                return random.choice(listB)\n",
    "            else:\n",
    "                return random.choice(listA)\n",
    "\n",
    "    return category_dep1\n",
    "\n",
    "\n",
    "category_dep = build_category_dep()\n"
   ]
  },
  {
   "cell_type": "code",
   "execution_count": 78,
   "metadata": {},
   "outputs": [],
   "source": [
    "def linear_noise(scale=1, offset=0 ):\n",
    "    return  offset + scale * random.random()"
   ]
  },
  {
   "cell_type": "code",
   "execution_count": 84,
   "metadata": {},
   "outputs": [],
   "source": [
    "def category_noise(category_count=10):\n",
    "    return random.randint(0, category_count) + 1\n"
   ]
  },
  {
   "cell_type": "code",
   "execution_count": 91,
   "metadata": {},
   "outputs": [
    {
     "data": {
      "text/html": [
       "<div>\n",
       "<style scoped>\n",
       "    .dataframe tbody tr th:only-of-type {\n",
       "        vertical-align: middle;\n",
       "    }\n",
       "\n",
       "    .dataframe tbody tr th {\n",
       "        vertical-align: top;\n",
       "    }\n",
       "\n",
       "    .dataframe thead th {\n",
       "        text-align: right;\n",
       "    }\n",
       "</style>\n",
       "<table border=\"1\" class=\"dataframe\">\n",
       "  <thead>\n",
       "    <tr style=\"text-align: right;\">\n",
       "      <th></th>\n",
       "      <th>target</th>\n",
       "      <th>x1</th>\n",
       "      <th>x2</th>\n",
       "      <th>x3</th>\n",
       "      <th>x4</th>\n",
       "      <th>x5</th>\n",
       "    </tr>\n",
       "  </thead>\n",
       "  <tbody>\n",
       "    <tr>\n",
       "      <th>0</th>\n",
       "      <td>0.965847</td>\n",
       "      <td>98.491526</td>\n",
       "      <td>0.579851</td>\n",
       "      <td>10</td>\n",
       "      <td>2.252555</td>\n",
       "      <td>3</td>\n",
       "    </tr>\n",
       "    <tr>\n",
       "      <th>1</th>\n",
       "      <td>0.192128</td>\n",
       "      <td>19.318540</td>\n",
       "      <td>19.053001</td>\n",
       "      <td>7</td>\n",
       "      <td>0.277048</td>\n",
       "      <td>1</td>\n",
       "    </tr>\n",
       "    <tr>\n",
       "      <th>2</th>\n",
       "      <td>0.106714</td>\n",
       "      <td>9.018915</td>\n",
       "      <td>19.726931</td>\n",
       "      <td>5</td>\n",
       "      <td>-0.045286</td>\n",
       "      <td>6</td>\n",
       "    </tr>\n",
       "    <tr>\n",
       "      <th>3</th>\n",
       "      <td>0.169632</td>\n",
       "      <td>16.562559</td>\n",
       "      <td>19.289441</td>\n",
       "      <td>7</td>\n",
       "      <td>-2.132929</td>\n",
       "      <td>11</td>\n",
       "    </tr>\n",
       "    <tr>\n",
       "      <th>4</th>\n",
       "      <td>0.379603</td>\n",
       "      <td>39.773897</td>\n",
       "      <td>16.673341</td>\n",
       "      <td>6</td>\n",
       "      <td>1.658390</td>\n",
       "      <td>4</td>\n",
       "    </tr>\n",
       "    <tr>\n",
       "      <th>5</th>\n",
       "      <td>0.553753</td>\n",
       "      <td>57.808364</td>\n",
       "      <td>12.660020</td>\n",
       "      <td>9</td>\n",
       "      <td>2.532359</td>\n",
       "      <td>2</td>\n",
       "    </tr>\n",
       "    <tr>\n",
       "      <th>6</th>\n",
       "      <td>0.694029</td>\n",
       "      <td>69.423935</td>\n",
       "      <td>8.794798</td>\n",
       "      <td>3</td>\n",
       "      <td>0.040209</td>\n",
       "      <td>6</td>\n",
       "    </tr>\n",
       "    <tr>\n",
       "      <th>7</th>\n",
       "      <td>0.732461</td>\n",
       "      <td>71.808550</td>\n",
       "      <td>7.985172</td>\n",
       "      <td>10</td>\n",
       "      <td>1.917307</td>\n",
       "      <td>4</td>\n",
       "    </tr>\n",
       "    <tr>\n",
       "      <th>8</th>\n",
       "      <td>0.367929</td>\n",
       "      <td>36.776579</td>\n",
       "      <td>16.716784</td>\n",
       "      <td>5</td>\n",
       "      <td>0.447605</td>\n",
       "      <td>3</td>\n",
       "    </tr>\n",
       "    <tr>\n",
       "      <th>9</th>\n",
       "      <td>0.165656</td>\n",
       "      <td>15.453045</td>\n",
       "      <td>19.302106</td>\n",
       "      <td>6</td>\n",
       "      <td>4.591935</td>\n",
       "      <td>7</td>\n",
       "    </tr>\n",
       "  </tbody>\n",
       "</table>\n",
       "</div>"
      ],
      "text/plain": [
       "     target         x1         x2  x3        x4  x5\n",
       "0  0.965847  98.491526   0.579851  10  2.252555   3\n",
       "1  0.192128  19.318540  19.053001   7  0.277048   1\n",
       "2  0.106714   9.018915  19.726931   5 -0.045286   6\n",
       "3  0.169632  16.562559  19.289441   7 -2.132929  11\n",
       "4  0.379603  39.773897  16.673341   6  1.658390   4\n",
       "5  0.553753  57.808364  12.660020   9  2.532359   2\n",
       "6  0.694029  69.423935   8.794798   3  0.040209   6\n",
       "7  0.732461  71.808550   7.985172  10  1.917307   4\n",
       "8  0.367929  36.776579  16.716784   5  0.447605   3\n",
       "9  0.165656  15.453045  19.302106   6  4.591935   7"
      ]
     },
     "execution_count": 91,
     "metadata": {},
     "output_type": "execute_result"
    }
   ],
   "source": [
    "df['x1'] = df.apply(lambda row: linear_dep(row, scale=100, noise=0.05), axis=1)\n",
    "df['x2'] = df.apply(lambda row: non_linear_dep(row, scale=20, noise=0.05), axis=1)\n",
    "df['x3'] = df.apply(lambda row: category_dep(row, noise=0.05), axis=1)\n",
    "df['x4'] = df.apply(lambda _: linear_noise(scale=10, offset=-5), axis=1)\n",
    "df['x5'] = df.apply(lambda _: category_noise(), axis=1)\n",
    "df"
   ]
  }
 ],
 "metadata": {
  "kernelspec": {
   "display_name": "Python 3.9.5 64-bit",
   "language": "python",
   "name": "python3"
  },
  "language_info": {
   "codemirror_mode": {
    "name": "ipython",
    "version": 3
   },
   "file_extension": ".py",
   "mimetype": "text/x-python",
   "name": "python",
   "nbconvert_exporter": "python",
   "pygments_lexer": "ipython3",
   "version": "3.9.5"
  },
  "orig_nbformat": 4,
  "vscode": {
   "interpreter": {
    "hash": "aee8b7b246df8f9039afb4144a1f6fd8d2ca17a180786b69acc140d282b71a49"
   }
  }
 },
 "nbformat": 4,
 "nbformat_minor": 2
}
